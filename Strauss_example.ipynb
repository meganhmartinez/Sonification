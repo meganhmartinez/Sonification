{
 "cells": [
  {
   "cell_type": "markdown",
   "id": "98c6566d-5ddb-4b79-9593-a738fe7504d2",
   "metadata": {},
   "source": [
    "# This first example of sonifications uses Strauss, a python package that aims to be the matplotlib of sonification [here](https://strauss.readthedocs.io/en/latest/) . In order to run this notebook, in addition to the standard fare of numpy etc, you'll need to install strauss and PIL. If you want to make mp3 files, you'll need to install ffmpeg\n",
    "\n",
    "Strauss is pretty easy to use and hides a lot of the gross parts of working with audio files in python. However, Strauss CANNOT do multiple instruments together at the current moment. There is also a bug in the time evolution of chords to be aware of. Strauss is a great choice if you're looking to do something relatively simple, but you may need to move to Mido (see other notebook) if you want to do something more complex "
   ]
  },
  {
   "cell_type": "code",
   "execution_count": 1,
   "id": "0f552521-daf5-40ad-84f7-5ac6bfdd4697",
   "metadata": {},
   "outputs": [],
   "source": [
    "import matplotlib.pyplot as plt\n",
    "import strauss\n",
    "from strauss.sonification import Sonification\n",
    "from strauss import channels\n",
    "from strauss.generator import Sampler\n",
    "from strauss.score import Score\n",
    "from strauss.generator import Synthesizer\n",
    "import IPython.display as ipd\n",
    "from strauss.sources import Events\n",
    "import os\n",
    "import numpy as np\n",
    "import copy\n",
    "\n",
    "import sys\n",
    "sys.path.append('../')\n",
    "import matplotlib.pyplot as plt\n",
    "from PIL import Image\n",
    "import numpy as np\n",
    "import time\n",
    "import matplotlib.cm as cm\n",
    "\n",
    "import time\n",
    "\n",
    "from FLEX_ed import ExpandGalaxies, BeefIt #this is my edited version of the FLEX code - a copy lives in this directory\n",
    "#BeefIt takes in filename, rscl_initial, mmax_initial, nmax_initial, new_mmax, new_nmax\n",
    "\n",
    "#import ffmpeg ----> only need this if you're trying to make mp3 files. Strauss will save out to wav"
   ]
  },
  {
   "cell_type": "code",
   "execution_count": 2,
   "id": "fe96053b-fd82-4935-982a-6897b51589eb",
   "metadata": {
    "scrolled": true
   },
   "outputs": [
    {
     "ename": "FileNotFoundError",
     "evalue": "[Errno 2] No such file or directory: '/Users/Megan/Desktop/GZ2_images/844.jpg'",
     "output_type": "error",
     "traceback": [
      "\u001b[0;31m---------------------------------------------------------------------------\u001b[0m",
      "\u001b[0;31mFileNotFoundError\u001b[0m                         Traceback (most recent call last)",
      "Cell \u001b[0;32mIn[2], line 5\u001b[0m\n\u001b[1;32m      2\u001b[0m galaxies \u001b[38;5;241m=\u001b[39m [\u001b[38;5;124m'\u001b[39m\u001b[38;5;124mGZ2_images/844.jpg\u001b[39m\u001b[38;5;124m'\u001b[39m, \u001b[38;5;124m'\u001b[39m\u001b[38;5;124mGZ2_images/290722.jpg\u001b[39m\u001b[38;5;124m'\u001b[39m, \u001b[38;5;124m'\u001b[39m\u001b[38;5;124mGZ2_images/99129.jpg\u001b[39m\u001b[38;5;124m'\u001b[39m,\u001b[38;5;124m'\u001b[39m\u001b[38;5;124mGZ2_images/289500.jpg\u001b[39m\u001b[38;5;124m'\u001b[39m, \u001b[38;5;124m'\u001b[39m\u001b[38;5;124mGZ2_images/295140.jpg\u001b[39m\u001b[38;5;124m'\u001b[39m,\n\u001b[1;32m      3\u001b[0m             \u001b[38;5;124m'\u001b[39m\u001b[38;5;124mGZ2_images/258142.jpg\u001b[39m\u001b[38;5;124m'\u001b[39m]\n\u001b[1;32m      4\u001b[0m \u001b[38;5;28;01mfor\u001b[39;00m image \u001b[38;5;129;01min\u001b[39;00m galaxies:\n\u001b[0;32m----> 5\u001b[0m     im \u001b[38;5;241m=\u001b[39m \u001b[43mImage\u001b[49m\u001b[38;5;241;43m.\u001b[39;49m\u001b[43mopen\u001b[49m\u001b[43m(\u001b[49m\u001b[38;5;124;43m'\u001b[39;49m\u001b[38;5;124;43m../\u001b[39;49m\u001b[38;5;124;43m'\u001b[39;49m\u001b[38;5;241;43m+\u001b[39;49m\u001b[43mimage\u001b[49m\u001b[43m)\u001b[49m\n\u001b[1;32m      6\u001b[0m     a \u001b[38;5;241m=\u001b[39m np\u001b[38;5;241m.\u001b[39masarray(im)\n\u001b[1;32m      7\u001b[0m     plt\u001b[38;5;241m.\u001b[39mfigure()\n",
      "File \u001b[0;32m/Library/Frameworks/Python.framework/Versions/3.12/lib/python3.12/site-packages/PIL/Image.py:3469\u001b[0m, in \u001b[0;36mopen\u001b[0;34m(fp, mode, formats)\u001b[0m\n\u001b[1;32m   3466\u001b[0m     filename \u001b[38;5;241m=\u001b[39m os\u001b[38;5;241m.\u001b[39mpath\u001b[38;5;241m.\u001b[39mrealpath(os\u001b[38;5;241m.\u001b[39mfspath(fp))\n\u001b[1;32m   3468\u001b[0m \u001b[38;5;28;01mif\u001b[39;00m filename:\n\u001b[0;32m-> 3469\u001b[0m     fp \u001b[38;5;241m=\u001b[39m \u001b[43mbuiltins\u001b[49m\u001b[38;5;241;43m.\u001b[39;49m\u001b[43mopen\u001b[49m\u001b[43m(\u001b[49m\u001b[43mfilename\u001b[49m\u001b[43m,\u001b[49m\u001b[43m \u001b[49m\u001b[38;5;124;43m\"\u001b[39;49m\u001b[38;5;124;43mrb\u001b[39;49m\u001b[38;5;124;43m\"\u001b[39;49m\u001b[43m)\u001b[49m\n\u001b[1;32m   3470\u001b[0m     exclusive_fp \u001b[38;5;241m=\u001b[39m \u001b[38;5;28;01mTrue\u001b[39;00m\n\u001b[1;32m   3471\u001b[0m \u001b[38;5;28;01melse\u001b[39;00m:\n",
      "\u001b[0;31mFileNotFoundError\u001b[0m: [Errno 2] No such file or directory: '/Users/Megan/Desktop/GZ2_images/844.jpg'"
     ]
    }
   ],
   "source": [
    "#visually inspecting our chosen galaxies\n",
    "galaxies = ['GZ2_images/844.jpg', 'GZ2_images/290722.jpg', 'GZ2_images/99129.jpg','GZ2_images/289500.jpg', 'GZ2_images/295140.jpg',\n",
    "            'GZ2_images/258142.jpg']\n",
    "for image in galaxies:\n",
    "    im = Image.open('../'+image)\n",
    "    a = np.asarray(im)\n",
    "    plt.figure()\n",
    "    plt.imshow(a)"
   ]
  },
  {
   "cell_type": "markdown",
   "id": "bec8206e-1e11-4b0a-a14b-f32bfd984771",
   "metadata": {},
   "source": [
    "# The first step to doing a sonification is to pick a way to map the coefficients to sounds. In the example here, I map the 'n' dimension to notes and the 'm' dimension to octaves. I give a default set of twelve notes in an order that I think generally sounds good, but you can change this! "
   ]
  },
  {
   "cell_type": "code",
   "execution_count": null,
   "id": "3009e334-85c4-4e42-a3ac-5e3e00958186",
   "metadata": {},
   "outputs": [],
   "source": [
    "def mod_map_to_sounds_octave_ampcutoff(cos_cos, sin_cos, note_list = np.array(['D#','A#','F','C','G', 'D', 'A', 'E','B','F#','C#','G#']),\n",
    "                                      verbose=0):\n",
    "    if verbose > 0:\n",
    "        print('using note list: ', note_list)\n",
    "    #getting the dimensions of m, n from our coefficient arrays\n",
    "    mmax = cos_cos.shape[0]\n",
    "    nmax = cos_cos.shape[1]\n",
    "    if len(note_list) < nmax:\n",
    "        print('more ns than notes - please feed in a different note list!')\n",
    "        print('looping note list')\n",
    "        while len(note_list) < nmax:\n",
    "            note_list = np.append(note_list, note_list)\n",
    "    if verbose > 0:\n",
    "        print('mmax, nmax: ', mmax, nmax)\n",
    "    #using the modulus (amplitude) for these mappings - this removes angular information, you could make other choices!\n",
    "    modulus = np.sqrt(cos_cos**2 + sin_cos**2)\n",
    "\n",
    "    abs_max = np.max(modulus)\n",
    "    note_dict = {}\n",
    "    \n",
    "    for m in range(mmax):\n",
    "        octave = m + 1 #we are starting with the lowest octave being m = 1 instead of 0. This bit here may give you some\n",
    "        #issues depending on your soundfont and instrument choice - different instruments have different combos of notes + octave\n",
    "        #ranges. This choice should be fine for piano and for the synth that we'll use in this example, but just a note of caution!\n",
    "        for n in range(nmax):\n",
    "            amp = modulus[m,n]/modulus[0,0] #normalizing by the 0,0 term\n",
    "            if abs(amp) >= 0.01*(abs_max/modulus[0,0]): #will only play terms with amplitude at least 1% of max\n",
    "                note = note_list[n] + str(octave) #saving out note + octave info - this is the format that Strauss wants, aka something\n",
    "                #like F2, A3 etc\n",
    "                note_dict[note] = abs(amp) #saving out the amplitude, too, which could be handy for lots of things, like determining\n",
    "                #the volume of the different components\n",
    "    if verbose > 0:\n",
    "        print('returning full set of notes')\n",
    "    return note_dict"
   ]
  },
  {
   "cell_type": "markdown",
   "id": "659acb8a-b73f-4c51-91a3-502910d78507",
   "metadata": {},
   "source": [
    "# doing the mapping - >"
   ]
  },
  {
   "cell_type": "markdown",
   "id": "2160b8c4-6a8e-4c7f-abcf-dfbd23f5c4a1",
   "metadata": {},
   "source": [
    "#### setting up the things that we need from Strauss, starting with making a 'generator' that will use a soundfont to make sounds from the notes that you give it. A soundfont is just a file that has a bunch of recordings of instruments - you can find mildly to extremely sketchy ones on the internet or make your own! "
   ]
  },
  {
   "cell_type": "code",
   "execution_count": null,
   "id": "9a11818b-32cd-4403-af98-1a1870609909",
   "metadata": {},
   "outputs": [],
   "source": [
    "test1 = Sampler(\"../op1 synth 8.sf2\", sf_preset=0) #this is a soundfont that I made using a synth, which means that it can do any \n",
    "#combo of notes and octaves. The 'sf_preset' here is how you would change to a different instrument if you were using a 'normal' soundfont\n",
    "test1_generator = copy.copy(test1) \n",
    "system = \"mono\" #opting for 'mono' - aka NOT stereo, no spatial info here! Strauss does let you do spatial info - they have some awesome\n",
    "#examples on their webpage\n",
    "length = 3 # length, in seconds, of the sound"
   ]
  },
  {
   "cell_type": "code",
   "execution_count": null,
   "id": "60a7faa5-6456-446e-a482-e53af3c40b7f",
   "metadata": {},
   "outputs": [
    {
     "name": "stdout",
     "output_type": "stream",
     "text": [
      "opening image\n",
      "Reff =  29.11686406230761  Galaxy Radius:  174.70118437384565\n",
      "getting pixel info, galaxy radius, mask, etc\n",
      "finding center of image\n",
      "center of mass estimate 1.1765405126063389 -1.6052432754683108\n",
      "center finding iteration 0\n"
     ]
    },
    {
     "ename": "KeyboardInterrupt",
     "evalue": "",
     "output_type": "error",
     "traceback": [
      "\u001b[0;31m---------------------------------------------------------------------------\u001b[0m",
      "\u001b[0;31mKeyboardInterrupt\u001b[0m                         Traceback (most recent call last)",
      "Cell \u001b[0;32mIn[13], line 3\u001b[0m\n\u001b[1;32m      1\u001b[0m \u001b[38;5;28;01mfor\u001b[39;00m image \u001b[38;5;129;01min\u001b[39;00m galaxies:\n\u001b[1;32m      2\u001b[0m     \u001b[38;5;66;03m#For this mapping, I want to use 7 m's and 12 n's - this means I'll use all of the twelve notes in the function above\u001b[39;00m\n\u001b[0;32m----> 3\u001b[0m     cos_cos712, sin_cos712 \u001b[38;5;241m=\u001b[39m \u001b[43mBeefIt\u001b[49m\u001b[43m(\u001b[49m\u001b[38;5;124;43m'\u001b[39;49m\u001b[38;5;124;43m../\u001b[39;49m\u001b[38;5;124;43m'\u001b[39;49m\u001b[38;5;241;43m+\u001b[39;49m\u001b[38;5;28;43mstr\u001b[39;49m\u001b[43m(\u001b[49m\u001b[43mimage\u001b[49m\u001b[43m)\u001b[49m\u001b[43m,\u001b[49m\u001b[43m \u001b[49m\u001b[43mrscl_initial\u001b[49m\u001b[43m \u001b[49m\u001b[38;5;241;43m=\u001b[39;49m\u001b[43m \u001b[49m\u001b[38;5;241;43m10\u001b[39;49m\u001b[43m,\u001b[49m\u001b[43m \u001b[49m\n\u001b[1;32m      4\u001b[0m \u001b[43m                                        \u001b[49m\u001b[43mmmax_initial\u001b[49m\u001b[43m \u001b[49m\u001b[38;5;241;43m=\u001b[39;49m\u001b[43m \u001b[49m\u001b[38;5;241;43m2\u001b[39;49m\u001b[43m,\u001b[49m\u001b[43m \u001b[49m\u001b[43mnmax_initial\u001b[49m\u001b[43m \u001b[49m\u001b[38;5;241;43m=\u001b[39;49m\u001b[43m \u001b[49m\u001b[38;5;241;43m10\u001b[39;49m\u001b[43m,\u001b[49m\n\u001b[1;32m      5\u001b[0m \u001b[43m                                       \u001b[49m\u001b[43mnew_mmax\u001b[49m\u001b[43m \u001b[49m\u001b[38;5;241;43m=\u001b[39;49m\u001b[43m \u001b[49m\u001b[38;5;241;43m7\u001b[39;49m\u001b[43m,\u001b[49m\u001b[43m \u001b[49m\u001b[43mnew_nmax\u001b[49m\u001b[43m \u001b[49m\u001b[38;5;241;43m=\u001b[39;49m\u001b[43m \u001b[49m\u001b[38;5;241;43m12\u001b[39;49m\u001b[43m)\u001b[49m\n\u001b[1;32m      6\u001b[0m     \u001b[38;5;66;03m#doing the actual mapping using the function above\u001b[39;00m\n\u001b[1;32m      7\u001b[0m     note_dict \u001b[38;5;241m=\u001b[39m mod_map_to_sounds_octave_ampcutoff(cos_cos712, sin_cos712, verbose\u001b[38;5;241m=\u001b[39m\u001b[38;5;241m1\u001b[39m)\n",
      "File \u001b[0;32m~/Developer/sonification/SummerProjects/FLEX_ed.py:657\u001b[0m, in \u001b[0;36mBeefIt\u001b[0;34m(filename, rscl_initial, mmax_initial, nmax_initial, new_mmax, new_nmax, print_plots, return_expander)\u001b[0m\n\u001b[1;32m    655\u001b[0m x_mass, y_mass \u001b[38;5;241m=\u001b[39m expander\u001b[38;5;241m.\u001b[39mfind_center_moments()\n\u001b[1;32m    656\u001b[0m \u001b[38;5;28mprint\u001b[39m(\u001b[38;5;124m'\u001b[39m\u001b[38;5;124mcenter of mass estimate\u001b[39m\u001b[38;5;124m'\u001b[39m, x_mass, y_mass)\n\u001b[0;32m--> 657\u001b[0m center_x, center_y, _ \u001b[38;5;241m=\u001b[39m \u001b[43mexpander\u001b[49m\u001b[38;5;241;43m.\u001b[39;49m\u001b[43mfind_center\u001b[49m\u001b[43m(\u001b[49m\u001b[43minitial_guess\u001b[49m\u001b[38;5;241;43m=\u001b[39;49m\u001b[43m(\u001b[49m\u001b[43mx_mass\u001b[49m\u001b[43m,\u001b[49m\u001b[43m \u001b[49m\u001b[43my_mass\u001b[49m\u001b[43m)\u001b[49m\u001b[43m)\u001b[49m \u001b[38;5;66;03m#updates self.R, self.Phi for future steps\u001b[39;00m\n\u001b[1;32m    658\u001b[0m \u001b[38;5;28mprint\u001b[39m(\u001b[38;5;124mf\u001b[39m\u001b[38;5;124m\"\u001b[39m\u001b[38;5;124mCenter of mass at x = \u001b[39m\u001b[38;5;132;01m{\u001b[39;00mcenter_x\u001b[38;5;132;01m}\u001b[39;00m\u001b[38;5;124m, y = \u001b[39m\u001b[38;5;132;01m{\u001b[39;00mcenter_y\u001b[38;5;132;01m}\u001b[39;00m\u001b[38;5;124m\"\u001b[39m)\n\u001b[1;32m    660\u001b[0m \u001b[38;5;66;03m# Test a range of rscl values to find the best one\u001b[39;00m\n",
      "File \u001b[0;32m~/Developer/sonification/SummerProjects/FLEX_ed.py:461\u001b[0m, in \u001b[0;36mExpandGalaxies.find_center\u001b[0;34m(self, initial_guess, tol, max_iter, n_min, n_max)\u001b[0m\n\u001b[1;32m    459\u001b[0m     \u001b[38;5;28mprint\u001b[39m(\u001b[38;5;124m'\u001b[39m\u001b[38;5;124mcenter finding iteration\u001b[39m\u001b[38;5;124m'\u001b[39m, i)\n\u001b[1;32m    460\u001b[0m \u001b[38;5;66;03m# Calculate the gradient for this guess for a standardised nmin and nmax\u001b[39;00m\n\u001b[0;32m--> 461\u001b[0m gradient \u001b[38;5;241m=\u001b[39m \u001b[38;5;28;43mself\u001b[39;49m\u001b[38;5;241;43m.\u001b[39;49m\u001b[43mcalculate_gradient\u001b[49m\u001b[43m(\u001b[49m\u001b[43mx\u001b[49m\u001b[43m,\u001b[49m\u001b[43m \u001b[49m\u001b[43my\u001b[49m\u001b[43m,\u001b[49m\u001b[43m \u001b[49m\u001b[43mn_min\u001b[49m\u001b[38;5;241;43m=\u001b[39;49m\u001b[43mn_min\u001b[49m\u001b[43m,\u001b[49m\u001b[43m \u001b[49m\u001b[43mn_max\u001b[49m\u001b[38;5;241;43m=\u001b[39;49m\u001b[43mn_max\u001b[49m\u001b[43m)\u001b[49m\n\u001b[1;32m    462\u001b[0m step_direction \u001b[38;5;241m=\u001b[39m \u001b[38;5;241m-\u001b[39m gradient\n\u001b[1;32m    463\u001b[0m step_size \u001b[38;5;241m=\u001b[39m \u001b[38;5;241m1e-3\u001b[39m \u001b[38;5;66;03m#\u001b[39;00m\n",
      "File \u001b[0;32m~/Developer/sonification/SummerProjects/FLEX_ed.py:405\u001b[0m, in \u001b[0;36mExpandGalaxies.calculate_gradient\u001b[0;34m(self, x, y, step, n_min, n_max)\u001b[0m\n\u001b[1;32m    402\u001b[0m     \u001b[38;5;28mself\u001b[39m\u001b[38;5;241m.\u001b[39mlaguerre_amplitudes()\n\u001b[1;32m    403\u001b[0m     \u001b[38;5;28;01mreturn\u001b[39;00m \u001b[38;5;28mself\u001b[39m\u001b[38;5;241m.\u001b[39mcalculate_A1(n_min, n_max)\n\u001b[0;32m--> 405\u001b[0m A1_x_plus_step \u001b[38;5;241m=\u001b[39m \u001b[43mcompute_A1_at_shift\u001b[49m\u001b[43m(\u001b[49m\u001b[43mx\u001b[49m\u001b[43m \u001b[49m\u001b[38;5;241;43m+\u001b[39;49m\u001b[43m \u001b[49m\u001b[43mstep\u001b[49m\u001b[43m,\u001b[49m\u001b[43m \u001b[49m\u001b[43my\u001b[49m\u001b[43m)\u001b[49m\n\u001b[1;32m    406\u001b[0m A1_x_minus_step \u001b[38;5;241m=\u001b[39m compute_A1_at_shift(x \u001b[38;5;241m-\u001b[39m step, y)\n\u001b[1;32m    407\u001b[0m A1_y_plus_step \u001b[38;5;241m=\u001b[39m compute_A1_at_shift(x, y \u001b[38;5;241m+\u001b[39m step)\n",
      "File \u001b[0;32m~/Developer/sonification/SummerProjects/FLEX_ed.py:402\u001b[0m, in \u001b[0;36mExpandGalaxies.calculate_gradient.<locals>.compute_A1_at_shift\u001b[0;34m(shift_x, shift_y)\u001b[0m\n\u001b[1;32m    400\u001b[0m \u001b[38;5;28mself\u001b[39m\u001b[38;5;241m.\u001b[39mR \u001b[38;5;241m=\u001b[39m np\u001b[38;5;241m.\u001b[39msqrt((\u001b[38;5;28mself\u001b[39m\u001b[38;5;241m.\u001b[39mxpix \u001b[38;5;241m-\u001b[39m shift_x)\u001b[38;5;241m*\u001b[39m\u001b[38;5;241m*\u001b[39m\u001b[38;5;241m2\u001b[39m \u001b[38;5;241m+\u001b[39m (\u001b[38;5;28mself\u001b[39m\u001b[38;5;241m.\u001b[39mypix \u001b[38;5;241m-\u001b[39m shift_y)\u001b[38;5;241m*\u001b[39m\u001b[38;5;241m*\u001b[39m\u001b[38;5;241m2\u001b[39m)\u001b[38;5;241m.\u001b[39mflatten()\n\u001b[1;32m    401\u001b[0m \u001b[38;5;28mself\u001b[39m\u001b[38;5;241m.\u001b[39mphi \u001b[38;5;241m=\u001b[39m np\u001b[38;5;241m.\u001b[39marctan2(\u001b[38;5;28mself\u001b[39m\u001b[38;5;241m.\u001b[39mypix \u001b[38;5;241m-\u001b[39m shift_y, \u001b[38;5;28mself\u001b[39m\u001b[38;5;241m.\u001b[39mxpix \u001b[38;5;241m-\u001b[39m shift_x)\u001b[38;5;241m.\u001b[39mflatten()\n\u001b[0;32m--> 402\u001b[0m \u001b[38;5;28;43mself\u001b[39;49m\u001b[38;5;241;43m.\u001b[39;49m\u001b[43mlaguerre_amplitudes\u001b[49m\u001b[43m(\u001b[49m\u001b[43m)\u001b[49m\n\u001b[1;32m    403\u001b[0m \u001b[38;5;28;01mreturn\u001b[39;00m \u001b[38;5;28mself\u001b[39m\u001b[38;5;241m.\u001b[39mcalculate_A1(n_min, n_max)\n",
      "File \u001b[0;32m~/Developer/sonification/SummerProjects/FLEX_ed.py:336\u001b[0m, in \u001b[0;36mExpandGalaxies.laguerre_amplitudes\u001b[0;34m(self)\u001b[0m\n\u001b[1;32m    333\u001b[0m cosm \u001b[38;5;241m=\u001b[39m np\u001b[38;5;241m.\u001b[39marray([nmvals[m] \u001b[38;5;241m*\u001b[39m np\u001b[38;5;241m.\u001b[39mcos(m \u001b[38;5;241m*\u001b[39m \u001b[38;5;28mself\u001b[39m\u001b[38;5;241m.\u001b[39mphi) \u001b[38;5;28;01mfor\u001b[39;00m m \u001b[38;5;129;01min\u001b[39;00m \u001b[38;5;28mrange\u001b[39m(\u001b[38;5;28mself\u001b[39m\u001b[38;5;241m.\u001b[39mmmax)])\n\u001b[1;32m    334\u001b[0m sinm \u001b[38;5;241m=\u001b[39m np\u001b[38;5;241m.\u001b[39marray([nmvals[m] \u001b[38;5;241m*\u001b[39m np\u001b[38;5;241m.\u001b[39msin(m \u001b[38;5;241m*\u001b[39m \u001b[38;5;28mself\u001b[39m\u001b[38;5;241m.\u001b[39mphi) \u001b[38;5;28;01mfor\u001b[39;00m m \u001b[38;5;129;01min\u001b[39;00m \u001b[38;5;28mrange\u001b[39m(\u001b[38;5;28mself\u001b[39m\u001b[38;5;241m.\u001b[39mmmax)])\n\u001b[0;32m--> 336\u001b[0m \u001b[38;5;28mself\u001b[39m\u001b[38;5;241m.\u001b[39mcoscoefs \u001b[38;5;241m=\u001b[39m \u001b[43mnp\u001b[49m\u001b[38;5;241;43m.\u001b[39;49m\u001b[43mnansum\u001b[49m\u001b[43m(\u001b[49m\u001b[43mcosm\u001b[49m\u001b[43m[\u001b[49m\u001b[43m:\u001b[49m\u001b[43m,\u001b[49m\u001b[43m \u001b[49m\u001b[43mnp\u001b[49m\u001b[38;5;241;43m.\u001b[39;49m\u001b[43mnewaxis\u001b[49m\u001b[43m,\u001b[49m\u001b[43m \u001b[49m\u001b[43m:\u001b[49m\u001b[43m]\u001b[49m\u001b[43m \u001b[49m\u001b[38;5;241;43m*\u001b[39;49m\u001b[43m \u001b[49m\u001b[43mG_j\u001b[49m\u001b[43m[\u001b[49m\u001b[43mnp\u001b[49m\u001b[38;5;241;43m.\u001b[39;49m\u001b[43mnewaxis\u001b[49m\u001b[43m,\u001b[49m\u001b[43m \u001b[49m\u001b[43m:\u001b[49m\u001b[43m,\u001b[49m\u001b[43m \u001b[49m\u001b[43m:\u001b[49m\u001b[43m]\u001b[49m\u001b[43m \u001b[49m\u001b[38;5;241;43m*\u001b[39;49m\u001b[43m \u001b[49m\u001b[38;5;28;43mself\u001b[39;49m\u001b[38;5;241;43m.\u001b[39;49m\u001b[43mmass\u001b[49m\u001b[43m \u001b[49m\u001b[38;5;241;43m*\u001b[39;49m\u001b[43m \u001b[49m\u001b[38;5;28;43mself\u001b[39;49m\u001b[38;5;241;43m.\u001b[39;49m\u001b[43mvelocity\u001b[49m\u001b[43m,\u001b[49m\u001b[43m \u001b[49m\u001b[43maxis\u001b[49m\u001b[38;5;241;43m=\u001b[39;49m\u001b[38;5;241;43m2\u001b[39;49m\u001b[43m)\u001b[49m\n\u001b[1;32m    337\u001b[0m \u001b[38;5;28mself\u001b[39m\u001b[38;5;241m.\u001b[39msincoefs \u001b[38;5;241m=\u001b[39m np\u001b[38;5;241m.\u001b[39mnansum(sinm[:, np\u001b[38;5;241m.\u001b[39mnewaxis, :] \u001b[38;5;241m*\u001b[39m G_j[np\u001b[38;5;241m.\u001b[39mnewaxis, :, :] \u001b[38;5;241m*\u001b[39m \u001b[38;5;28mself\u001b[39m\u001b[38;5;241m.\u001b[39mmass \u001b[38;5;241m*\u001b[39m \u001b[38;5;28mself\u001b[39m\u001b[38;5;241m.\u001b[39mvelocity, axis\u001b[38;5;241m=\u001b[39m\u001b[38;5;241m2\u001b[39m)\n",
      "File \u001b[0;32m~/Developer/sonification/venv/lib/python3.12/site-packages/numpy/lib/_nanfunctions_impl.py:639\u001b[0m, in \u001b[0;36m_nansum_dispatcher\u001b[0;34m(a, axis, dtype, out, keepdims, initial, where)\u001b[0m\n\u001b[1;32m    635\u001b[0m     res \u001b[38;5;241m=\u001b[39m np\u001b[38;5;241m.\u001b[39margmax(a, axis\u001b[38;5;241m=\u001b[39maxis, out\u001b[38;5;241m=\u001b[39mout, keepdims\u001b[38;5;241m=\u001b[39mkeepdims)\n\u001b[1;32m    636\u001b[0m     \u001b[38;5;28;01mreturn\u001b[39;00m res\n\u001b[0;32m--> 639\u001b[0m \u001b[38;5;28;01mdef\u001b[39;00m \u001b[38;5;21m_nansum_dispatcher\u001b[39m(a, axis\u001b[38;5;241m=\u001b[39m\u001b[38;5;28;01mNone\u001b[39;00m, dtype\u001b[38;5;241m=\u001b[39m\u001b[38;5;28;01mNone\u001b[39;00m, out\u001b[38;5;241m=\u001b[39m\u001b[38;5;28;01mNone\u001b[39;00m, keepdims\u001b[38;5;241m=\u001b[39m\u001b[38;5;28;01mNone\u001b[39;00m,\n\u001b[1;32m    640\u001b[0m                        initial\u001b[38;5;241m=\u001b[39m\u001b[38;5;28;01mNone\u001b[39;00m, where\u001b[38;5;241m=\u001b[39m\u001b[38;5;28;01mNone\u001b[39;00m):\n\u001b[1;32m    641\u001b[0m     \u001b[38;5;28;01mreturn\u001b[39;00m (a, out)\n\u001b[1;32m    644\u001b[0m \u001b[38;5;129m@array_function_dispatch\u001b[39m(_nansum_dispatcher)\n\u001b[1;32m    645\u001b[0m \u001b[38;5;28;01mdef\u001b[39;00m \u001b[38;5;21mnansum\u001b[39m(a, axis\u001b[38;5;241m=\u001b[39m\u001b[38;5;28;01mNone\u001b[39;00m, dtype\u001b[38;5;241m=\u001b[39m\u001b[38;5;28;01mNone\u001b[39;00m, out\u001b[38;5;241m=\u001b[39m\u001b[38;5;28;01mNone\u001b[39;00m, keepdims\u001b[38;5;241m=\u001b[39mnp\u001b[38;5;241m.\u001b[39m_NoValue,\n\u001b[1;32m    646\u001b[0m            initial\u001b[38;5;241m=\u001b[39mnp\u001b[38;5;241m.\u001b[39m_NoValue, where\u001b[38;5;241m=\u001b[39mnp\u001b[38;5;241m.\u001b[39m_NoValue):\n",
      "\u001b[0;31mKeyboardInterrupt\u001b[0m: "
     ]
    }
   ],
   "source": [
    "for image in galaxies:\n",
    "    #For this mapping, I want to use 7 m's and 12 n's - this means I'll use all of the twelve notes in the function above\n",
    "    cos_cos712, sin_cos712 = BeefIt('../'+str(image), rscl_initial = 10, \n",
    "                                        mmax_initial = 2, nmax_initial = 10,\n",
    "                                       new_mmax = 7, new_nmax = 12)\n",
    "    #doing the actual mapping using the function above\n",
    "    note_dict = mod_map_to_sounds_octave_ampcutoff(cos_cos712, sin_cos712, verbose=1)\n",
    "\n",
    "    #this is the Strauss bit, where the magic (aka turning into sound) happens!\n",
    "    score =  Score([list(note_dict.keys())], length) #strauss uses scores, to make a chord it needs to be in this kind of format:\n",
    "    #[['A2', 'C2', 'B3']], multiple chords would be [[['A2', 'C2', 'B3'], [['D2', 'E2', 'G3']]\n",
    "    #then we define the way that the pitch and volume should be \n",
    "    data = {'pitch': np.ones(len(note_dict.keys())), #we don't want to change the pitch of any of our notes, and we want constant volume\n",
    "           'volume': np.ones(len(note_dict.keys()))} #could make volume scale with weight etc!\n",
    "    #there are a bunch of options you can put into data here, like azimuth angle if you're using stereo\n",
    "    #we use an 'event' here - from the strauss documentation, events are '... best suited to represent data that can be characterised by \n",
    "    #an occurence time', vs an 'object' which is best to 'represent data that evolves continuosly over time' \n",
    "    sources = Events(data.keys())\n",
    "    sources.fromdict(data)\n",
    "    #the time limit of the mapping, from 0-101% here. We go above 100% so that we dont just truncate super sharply/the notes can play out\n",
    "    lims = {'time': ('0','101')}\n",
    "    sources.apply_mapping_functions(map_lims=lims) \n",
    "    #last piece here - putting together the score, sources, generator, and whether it is stereo or audio\n",
    "    soni = Sonification(score, sources, test1_generator, system)\n",
    "    #rendering!\n",
    "    soni.render()\n",
    "    #getting image name with just the galaxy number\n",
    "    image_name = image.split('/')[1]\n",
    "    image_name = image_name.split('.')[0]\n",
    "    #saving out\n",
    "    soni.save(str(image_name)+'test.wav')\n",
    "    #converting to MP3 - based on this: https://gist.github.com/kroger/6211862 - uncomment this and install ffmpeg if you want to do this\n",
    "    #! lame \"{image_name}_test.wav\" \"{image_name}_test.mp3\"\n",
    "    #os.remove(str(image_name)+'_'+'test.wav')"
   ]
  },
  {
   "cell_type": "code",
   "execution_count": null,
   "id": "ea8ddcf5-11fa-4f85-86ff-850e4af5afb2",
   "metadata": {},
   "outputs": [],
   "source": []
  }
 ],
 "metadata": {
  "kernelspec": {
   "display_name": "Python 3",
   "language": "python",
   "name": "python3"
  },
  "language_info": {
   "codemirror_mode": {
    "name": "ipython",
    "version": 3
   },
   "file_extension": ".py",
   "mimetype": "text/x-python",
   "name": "python",
   "nbconvert_exporter": "python",
   "pygments_lexer": "ipython3",
   "version": "3.12.6"
  }
 },
 "nbformat": 4,
 "nbformat_minor": 5
}
